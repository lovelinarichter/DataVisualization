{
 "cells": [
  {
   "cell_type": "markdown",
   "metadata": {},
   "source": [
    "# Data Visualization Project\n",
    "## Analysis and Visualization of Loan Data from Prosper\n",
    "\n",
    "#### By Lovelina Richter\n",
    "\n",
    "August 2020\n",
    "\n",
    "The data is provided by Udacity. The data set contains 113,937 loan records with 81 variables on each loan. \n",
    "Variables included in the data set are Loan amount, Borrower rate (or interest rate), Current loan status, Borrower Income, Employment Status, Occupation, and many others.\n",
    "The data dictionary is provided with defintion of each variable. The project requirement is to explore 10 to 15 variables only. "
   ]
  },
  {
   "cell_type": "markdown",
   "metadata": {},
   "source": [
    "### Table of Contents\n",
    "\n",
    "1. [Data Dictionary](#datadict)\n",
    "\n",
    "\n",
    "2. [Data Wrangling](#datawrangling)\n",
    "   \n",
    "   2.1 [Data Gathering](#gatherdata)\n",
    "   \n",
    "   2.2 [Data Assessment](#assessdata)\n",
    "         \n",
    "   2.3 [Data Cleanup](#cleandata)\n",
    "\n",
    "\n",
    "3. [Data Vizualization](#dataviz)\n",
    "\n",
    "    3.1 [Univariate Exploration](#univar)\n",
    "\n",
    "    3.2 [Bivariate Exploration](#bivar)\n",
    "\n",
    "    3.3 [Multivariate Exploration](#multivar)\n",
    "    \n",
    "    \n",
    "4. [Summary](#summary)\n",
    "\n",
    "\n",
    "5. [References](#reflink)"
   ]
  },
  {
   "attachments": {},
   "cell_type": "markdown",
   "metadata": {},
   "source": [
    "#### Data Dictionary: Variables to be used in analysis <a class =\"anchor\" id =\"datadict\"></a>\n",
    "\n",
    "1. ListingKey:\tUnique key for each listing, same value as the 'key' used in the listing object in the API.\n",
    "\n",
    "2. LoanStatus: The current status of the loan: Cancelled,  Chargedoff, Completed, Current, Defaulted, FinalPaymentInProgress, PastDue. The PastDue status will be accompanied by a delinquency bucket.\n",
    "\n",
    "3. BorrowerAPR:\tThe Borrower's Annual Percentage Rate (APR) for the loan.\n",
    "\n",
    "4. EstimatedReturn:\tThe estimated return assigned to the listing at the time it was created. Estimated return is the difference between the Estimated Effective Yield and the Estimated Loss Rate. Applicable for loans originated after July 2009.\n",
    "\n",
    "5. ProsperRating (numeric): \tThe  Prosper Rating assigned at the time the listing was created: 0 - N/A, 1 - HR, 2 - E, 3 - D, 4 - C, 5 - B, 6 - A, 7 - AA.  Applicable for loans originated after July 2009.\n",
    "\n",
    "6. ListingCategory: \tThe category of the listing that the borrower selected when posting their listing: 0 - Not Available, 1 - Debt Consolidation, 2 - Home Improvement, 3 - Business, 4 - Personal Loan, 5 - Student Use, 6 - Auto, 7- Other, 8 - Baby&Adoption, 9 - Boat, 10 - Cosmetic Procedure, 11 - Engagement Ring, 12 - Green Loans, 13 - Household Expenses, 14 - Large Purchases, 15 - Medical/Dental, 16 - Motorcycle, 17 - RV, 18 - Taxes, 19 - Vacation, 20 - Wedding Loans\n",
    "\n",
    "7. BorrowerState:\tThe two letter abbreviation of the state of the address of the borrower at the time the Listing was created.\n",
    "\n",
    "8. Occupation:\tThe Occupation selected by the Borrower at the time they created the listing.\n",
    "\n",
    "9. EmploymentStatus:\tThe employment status of the borrower at the time they posted the listing.\n",
    "\n",
    "10. IsBorrowerHomeowner:\tA Borrower will be classified as a homowner if they have a mortgage on their credit profile or provide documentation confirming they are a homeowner.\n",
    "\n",
    "11. CreditScoreRangeUpper:\tThe upper value representing the range of the borrower's credit score as provided by a consumer credit rating agency. \n",
    "\n",
    "12. CurrentCreditLine:s\tNumber of current credit lines at the time the credit profile was pulled.\n",
    "\n",
    "13. IncomeRange:\tThe income range of the borrower at the time the listing was created.\n",
    "\n",
    "14. IncomeVerifiable:\tThe borrower indicated they have the required documentation to support their income.\n",
    "\n",
    "15. LoanOriginalAmount:\tThe origination amount of the loan."
   ]
  },
  {
   "cell_type": "code",
   "execution_count": null,
   "metadata": {
    "scrolled": true
   },
   "outputs": [],
   "source": [
    "# import all packages and set plots to be embedded inline\n",
    "import numpy as np\n",
    "import pandas as pd\n",
    "import matplotlib.pyplot as plt\n",
    "import seaborn as sb\n",
    "\n",
    "%matplotlib inline\n",
    "\n",
    "# Ignore warning messages\n",
    "import warnings\n",
    "warnings.filterwarnings('ignore')"
   ]
  },
  {
   "cell_type": "markdown",
   "metadata": {},
   "source": [
    "### Data Wrangling <a class =\"anchor\" id =\"datawrangling\"></a>"
   ]
  },
  {
   "cell_type": "markdown",
   "metadata": {},
   "source": [
    "####  Data Gathering <a class =\"anchor\" id =\"gatherdata\"></a>\n",
    "\n",
    "Read CSV file"
   ]
  },
  {
   "cell_type": "code",
   "execution_count": null,
   "metadata": {
    "scrolled": true
   },
   "outputs": [],
   "source": [
    "# read data and save to panda dataframe\n",
    "df = pd.read_csv('prosperLoanData.csv')"
   ]
  },
  {
   "cell_type": "markdown",
   "metadata": {},
   "source": [
    "#### Data Assessment <a class =\"anchor\" id =\"assessdata\"></a>\n",
    "\n",
    "##### Inspect Data Structure"
   ]
  },
  {
   "cell_type": "code",
   "execution_count": null,
   "metadata": {
    "scrolled": true
   },
   "outputs": [],
   "source": [
    "#view the dataframe dimensions, shows the number of records and columns\n",
    "df.shape"
   ]
  },
  {
   "cell_type": "code",
   "execution_count": null,
   "metadata": {
    "scrolled": true
   },
   "outputs": [],
   "source": [
    "#View the data from top rows of the frame\n",
    "df.head()"
   ]
  },
  {
   "cell_type": "code",
   "execution_count": null,
   "metadata": {
    "scrolled": true
   },
   "outputs": [],
   "source": [
    "#This shows information about a DataFrame including the index dtype and column dtypes, non-null values and memory usage.\n",
    "df.info()"
   ]
  },
  {
   "cell_type": "code",
   "execution_count": null,
   "metadata": {
    "scrolled": true
   },
   "outputs": [],
   "source": [
    "# Quick analysis of some of the numbers, view the dataframe descriptive statistics\n",
    "df.describe()"
   ]
  },
  {
   "cell_type": "markdown",
   "metadata": {},
   "source": [
    "#### Data Cleanup <a class =\"anchor\" id =\"cleandata\"></a>"
   ]
  },
  {
   "cell_type": "code",
   "execution_count": null,
   "metadata": {
    "scrolled": true
   },
   "outputs": [],
   "source": [
    "# copy original datasets\n",
    "clean_df = df.copy()"
   ]
  },
  {
   "cell_type": "code",
   "execution_count": null,
   "metadata": {
    "scrolled": true
   },
   "outputs": [],
   "source": [
    "#Remove duplicate Listing Key\n",
    "clean_df = clean_df.sort_values('ListingKey').drop_duplicates('ListingKey', keep ='last')"
   ]
  },
  {
   "cell_type": "code",
   "execution_count": null,
   "metadata": {
    "scrolled": true
   },
   "outputs": [],
   "source": [
    "#Rename columns with spaces, for easier coding\n",
    "clean_df = clean_df.rename(columns = {'ProsperRating (numeric)':'ProsperRatingN',\n",
    "                                      'ListingCategory (numeric)': 'ListingCategoryN'})"
   ]
  },
  {
   "cell_type": "code",
   "execution_count": null,
   "metadata": {
    "scrolled": true
   },
   "outputs": [],
   "source": [
    "#Check how many duplicates were removed\n",
    "#original count = 113,937\n",
    "clean_df.shape"
   ]
  },
  {
   "cell_type": "code",
   "execution_count": null,
   "metadata": {
    "scrolled": true
   },
   "outputs": [],
   "source": [
    "#drop columns that i am not interest to analyze, for easy reading and cleaner data structure\n",
    "clean_df = clean_df.drop(['ListingNumber','ListingCreationDate','CreditGrade','Term','ClosedDate','BorrowerRate','LenderYield','EstimatedEffectiveYield','EstimatedLoss','ProsperRating (Alpha)','ProsperScore','CurrentlyInGroup','GroupKey','DateCreditPulled','CreditScoreRangeLower','FirstRecordedCreditLine','OpenCreditLines','TotalCreditLinespast7years','OpenRevolvingAccounts','OpenRevolvingMonthlyPayment','InquiriesLast6Months','TotalInquiries','CurrentDelinquencies','AmountDelinquent','DelinquenciesLast7Years','PublicRecordsLast10Years','PublicRecordsLast12Months','RevolvingCreditBalance','BankcardUtilization','AvailableBankcardCredit','TotalTrades','TradesNeverDelinquent (percentage)','TradesOpenedLast6Months','StatedMonthlyIncome','LoanKey','TotalProsperLoans','TotalProsperPaymentsBilled','OnTimeProsperPayments','ProsperPaymentsLessThanOneMonthLate','ProsperPaymentsOneMonthPlusLate','ProsperPrincipalBorrowed','ProsperPrincipalOutstanding','ScorexChangeAtTimeOfListing','LoanCurrentDaysDelinquent','LoanFirstDefaultedCycleNumber','LoanMonthsSinceOrigination','LoanNumber','LoanOriginationDate','LoanOriginationQuarter','MemberKey','MonthlyLoanPayment','LP_CustomerPayments','LP_CustomerPrincipalPayments','LP_InterestandFees','LP_ServiceFees','LP_CollectionFees','LP_GrossPrincipalLoss','LP_NetPrincipalLoss','LP_NonPrincipalRecoverypayments','PercentFunded','Recommendations','InvestmentFromFriendsCount','InvestmentFromFriendsAmount','Investors'],axis=1)"
   ]
  },
  {
   "cell_type": "code",
   "execution_count": null,
   "metadata": {
    "scrolled": true
   },
   "outputs": [],
   "source": [
    "#Check if columns were removed\n",
    "clean_df.info()"
   ]
  },
  {
   "cell_type": "code",
   "execution_count": null,
   "metadata": {
    "scrolled": true
   },
   "outputs": [],
   "source": [
    "# Check unique LoanStatus\n",
    "clean_df['LoanStatus'].unique()"
   ]
  },
  {
   "cell_type": "code",
   "execution_count": null,
   "metadata": {
    "scrolled": true
   },
   "outputs": [],
   "source": [
    "# Check unique Employment Status\n",
    "clean_df['EmploymentStatus'].unique()"
   ]
  },
  {
   "cell_type": "code",
   "execution_count": null,
   "metadata": {
    "scrolled": true
   },
   "outputs": [],
   "source": [
    "# Fill nan values with 'Not available'\n",
    "clean_df['EmploymentStatus'].fillna(value='Not available', inplace=True)"
   ]
  },
  {
   "cell_type": "code",
   "execution_count": null,
   "metadata": {
    "scrolled": true
   },
   "outputs": [],
   "source": [
    "# Define EmploymentStatus as a category\n",
    "employment_status_dict = ['Not available', 'Other', 'Not employed', 'Self-employed', \n",
    "                                               'Part-time', 'Full-time', 'Employed', 'Retired']\n",
    "\n",
    "ordered_employment_status = pd.api.types.CategoricalDtype(ordered = True, categories = employment_status_dict)\n",
    "clean_df['EmploymentStatus'] = clean_df['EmploymentStatus'].astype(ordered_employment_status)"
   ]
  },
  {
   "cell_type": "code",
   "execution_count": null,
   "metadata": {
    "scrolled": true
   },
   "outputs": [],
   "source": [
    "# Decode ListingCategory (numeric) feature\n",
    "list_dict = {0 : 'Not Available', 1 : 'Debt Consolidation', 2 : 'Home Improvement', 3: 'Business', \n",
    "             4 : 'Personal Loan', 5 : 'Student Use', 6 : 'Auto', 7 : 'Other', 8 : 'Baby&Adoption', \n",
    "             9 : 'Boat', 10 : 'Cosmetic Procedure', 11 : 'Engagement Ring', 12 : 'Green Loans',\n",
    "             13 : 'Household Expenses', 14 : 'Large Purchases', 15 : 'Medical/Dental', 16 : 'Motorcycle',\n",
    "             17 : 'RV', 18 : 'Taxes', 19 : 'Vacation', 20 : 'Wedding Loans'}\n",
    "\n",
    "clean_df['ListingCategory'] = clean_df['ListingCategoryN'].map(list_dict)"
   ]
  },
  {
   "cell_type": "code",
   "execution_count": null,
   "metadata": {
    "scrolled": true
   },
   "outputs": [],
   "source": [
    "# Look at the new ListingCategory feature\n",
    "clean_df[['ListingCategoryN', 'ListingCategory']].sample(10)"
   ]
  },
  {
   "cell_type": "markdown",
   "metadata": {},
   "source": [
    "## Data Visualization <a class =\"anchor\" id =\"dataviz\"></a>"
   ]
  },
  {
   "cell_type": "markdown",
   "metadata": {},
   "source": [
    "### Structure of the dataset\n",
    "\n",
    "There are 113,937 loan records from Prospect. There are 81 variables in the dataset. Variables included Loan Status, Borrower's APR, Borrower's Interest Rate for the specific loan. Prosper's rating at the time of listing was created. \n",
    "\n",
    "###  Questions to investigate or main interest in the dataset\n",
    "\n",
    "I am most interested in figuring out What factors affect the loan status?  Does Borrower's profile is sole determining factor of the loan status? How many investors are interested in the loan? \n",
    "\n",
    "### Variables that could help in analysis of data\n",
    "\n",
    "I expect that the variables related to the following data will help me analyze and figure out the factors that affects status.\n",
    "1. Prospect's data\n",
    "2. Borrowers's data\n",
    "3. Investor's data"
   ]
  },
  {
   "cell_type": "markdown",
   "metadata": {},
   "source": [
    "## Univariate Exploration <a class =\"anchor\" id =\"univar\"></a>\n",
    "\n",
    "Start by looking at the distribution of each variable of interest"
   ]
  },
  {
   "cell_type": "code",
   "execution_count": null,
   "metadata": {
    "scrolled": true
   },
   "outputs": [],
   "source": [
    "#check percentage of loan status\n",
    "pct_loans_by_status = pd.DataFrame(clean_df.groupby('LoanStatus')['LoanStatus'].count())\n",
    "pct_loans_by_status['PercentStatus'] = (pct_loans_by_status['LoanStatus']/pct_loans_by_status['LoanStatus'].sum())*100\n",
    "pct_loans_by_status.sort_values(by='PercentStatus', ascending=False)\n",
    "\n",
    "# Plot LoanStatus\n",
    "default_color = sb.color_palette()[1]\n",
    "\n",
    "# Order the categorical variable type\n",
    "cat_order = clean_df['LoanStatus'].value_counts().index\n",
    "\n",
    "sb.countplot(data = clean_df, y = 'LoanStatus', color = default_color, order=cat_order)\n",
    "plt.xlabel('# of Loans')\n",
    "plt.ylabel('Status');"
   ]
  },
  {
   "cell_type": "code",
   "execution_count": null,
   "metadata": {
    "scrolled": true
   },
   "outputs": [],
   "source": [
    "# Cleanup Status and save all Past Due loans under an unique value\n",
    "clean_df['LoanStatus'] = clean_df['LoanStatus'].apply(lambda x: x if 'Past Due' not in x else 'Past Due')\n",
    "\n",
    "# Convert LoanStatus to a categorical variable\n",
    "loan_status_dict = ['Defaulted','Chargedoff', 'Past Due', 'Current', 'FinalPaymentInProgress', 'Completed']\n",
    "\n",
    "ordered_loan_status = pd.api.types.CategoricalDtype(ordered = True, categories = loan_status_dict)\n",
    "\n",
    "clean_df['LoanStatus'] = clean_df['LoanStatus'].astype(ordered_loan_status)"
   ]
  },
  {
   "cell_type": "code",
   "execution_count": null,
   "metadata": {
    "scrolled": true
   },
   "outputs": [],
   "source": [
    "#check percentage of loan status\n",
    "pct_loans_by_status = pd.DataFrame(clean_df.groupby('LoanStatus')['LoanStatus'].count())\n",
    "pct_loans_by_status['PercentStatus'] = (pct_loans_by_status['LoanStatus']/pct_loans_by_status['LoanStatus'].sum())*100\n",
    "pct_loans_by_status.sort_values(by='PercentStatus', ascending=False)"
   ]
  },
  {
   "cell_type": "code",
   "execution_count": null,
   "metadata": {
    "scrolled": true
   },
   "outputs": [],
   "source": [
    "# Plot LoanStatus\n",
    "default_color = sb.color_palette()[1]\n",
    "\n",
    "# Order the categorical variable type\n",
    "cat_order = clean_df['LoanStatus'].value_counts().index\n",
    "\n",
    "sb.countplot(data = clean_df, y = 'LoanStatus', color = default_color, order=cat_order)\n",
    "plt.xlabel('# of Loans')\n",
    "plt.ylabel('Status');"
   ]
  },
  {
   "cell_type": "markdown",
   "metadata": {},
   "source": [
    "About 80% of loan status are current and completed. While 20% are Chargedoff, defaulted, or past due. This will be the main variable of interest, what factors contributed to 80% and 20% distribution? "
   ]
  },
  {
   "cell_type": "markdown",
   "metadata": {},
   "source": [
    "Next variable to analyze is Loan Original Amount:"
   ]
  },
  {
   "cell_type": "code",
   "execution_count": null,
   "metadata": {
    "scrolled": true
   },
   "outputs": [],
   "source": [
    "#check percentage of loan original amount\n",
    "pct_loans_by_amount = pd.DataFrame(clean_df.groupby('LoanOriginalAmount')['LoanOriginalAmount'].count())\n",
    "pct_loans_by_amount['PercentAmount'] = (pct_loans_by_amount['LoanOriginalAmount']/pct_loans_by_amount['LoanOriginalAmount'].sum())*100\n",
    "pct_loans_by_amount.sort_values(by='PercentAmount', ascending=False)"
   ]
  },
  {
   "cell_type": "code",
   "execution_count": null,
   "metadata": {
    "scrolled": true
   },
   "outputs": [],
   "source": [
    "# show loan original amounnt in a chart\n",
    "binsize = 500\n",
    "bins = np.arange(0, clean_df['LoanOriginalAmount'].max()+binsize, binsize)\n",
    "\n",
    "plt.figure(figsize=[10, 5])\n",
    "plt.hist(data = clean_df, x = 'LoanOriginalAmount', bins = bins)\n",
    "plt.xlabel('Loan Amount ($)')\n",
    "plt.show()"
   ]
  },
  {
   "cell_type": "markdown",
   "metadata": {},
   "source": [
    "The distribution of loan amount is quite interesting because it is not distributed normally:\n",
    "\n",
    "23% are between 2,000  and 5,000\n",
    "\n",
    "21% are between 10,000 to 15,000\n",
    "\n",
    "The rest are distributed between 2,000 and 35,000\n",
    "\n",
    "While the most number of loan is 4,000"
   ]
  },
  {
   "cell_type": "markdown",
   "metadata": {},
   "source": [
    "Next, is to check how Prosper Rating is distributed:"
   ]
  },
  {
   "cell_type": "code",
   "execution_count": null,
   "metadata": {
    "scrolled": true
   },
   "outputs": [],
   "source": [
    "# Plot for Prosper Rating\n",
    "binsize = 1\n",
    "bins = np.arange(0, clean_df['ProsperRatingN'].max()+binsize, binsize)\n",
    "\n",
    "plt.figure(figsize=[8, 5])\n",
    "sb.countplot(data = clean_df, x = 'ProsperRatingN', color = default_color)\n",
    "plt.xlabel('Prosper Rating')\n",
    "plt.ylabel('# of Borrowers');"
   ]
  },
  {
   "cell_type": "markdown",
   "metadata": {},
   "source": [
    "The Prosper Rating assigned at the time the listing was created as follows: 0 - N/A, 1 - HR, 2 - E, 3 - D, 4 - C, 5 - B, 6 - A, 7 - AA.  Applicable for loans originated after July 2009. \n",
    "\n",
    "The Prosper Rating is shows a normal distribution. "
   ]
  },
  {
   "cell_type": "code",
   "execution_count": null,
   "metadata": {
    "scrolled": true
   },
   "outputs": [],
   "source": [
    "# plot for CurrentCreditLines\n",
    "plt.subplots(figsize = [20,5])\n",
    "\n",
    "sb.countplot(data = clean_df, x = 'CurrentCreditLines', color = default_color)\n",
    "plt.xlabel('Current Credit Lines')\n",
    "plt.ylabel('# of Borrowers')\n",
    "plt.xticks(rotation=90);"
   ]
  },
  {
   "cell_type": "markdown",
   "metadata": {},
   "source": [
    "There is a strong distribution of Current Credit lines between 4 and 14, and a long tail for credit line over 15.  \n",
    "Let's see what is the percentage of credit lines. "
   ]
  },
  {
   "cell_type": "code",
   "execution_count": null,
   "metadata": {
    "scrolled": true
   },
   "outputs": [],
   "source": [
    "#check percentage of Current Credit lines\n",
    "pct_loans_by_credit = pd.DataFrame(clean_df.groupby('CurrentCreditLines')['CurrentCreditLines'].count())\n",
    "pct_loans_by_credit['PercentCredit'] = (pct_loans_by_credit['CurrentCreditLines']/pct_loans_by_credit['CurrentCreditLines'].sum())*100\n",
    "pct_loans_by_credit.sort_values(by='PercentCredit', ascending=False)"
   ]
  },
  {
   "cell_type": "markdown",
   "metadata": {},
   "source": [
    "About 77% are between 4 and 14 credit lines and the rest are scattered from 15 to 59 range of credit line."
   ]
  },
  {
   "cell_type": "code",
   "execution_count": null,
   "metadata": {
    "scrolled": true
   },
   "outputs": [],
   "source": [
    "# Plot a standard-scaled plot for CurrentCreditScore\n",
    "plt.subplots(figsize = [20,5])\n",
    "\n",
    "sb.countplot(data = clean_df, x = 'CreditScoreRangeUpper', color = default_color)\n",
    "plt.xlabel('Credit Score')\n",
    "plt.ylabel('# of Borrowers')\n",
    "plt.xticks(rotation=90);"
   ]
  },
  {
   "cell_type": "markdown",
   "metadata": {},
   "source": [
    "Interesting distribution of credit score. Average credit score is between 659 and 739. The rest are distributed either low or high credit score. Let us what the percentage of each score."
   ]
  },
  {
   "cell_type": "code",
   "execution_count": null,
   "metadata": {
    "scrolled": true
   },
   "outputs": [],
   "source": [
    "#check percentage of Current Credit Score\n",
    "pct_loans_by_creditscore = pd.DataFrame(clean_df.groupby('CreditScoreRangeUpper')['CreditScoreRangeUpper'].count())\n",
    "pct_loans_by_creditscore['PercentCreditScore'] = (pct_loans_by_creditscore['CreditScoreRangeUpper']/pct_loans_by_creditscore['CreditScoreRangeUpper'].sum())*100\n",
    "pct_loans_by_creditscore.sort_values(by='PercentCreditScore', ascending=False)"
   ]
  },
  {
   "cell_type": "markdown",
   "metadata": {},
   "source": [
    "Credit score between 659 and 738 is about 65% and the rest are 35% which are distributed either high or low credit score. "
   ]
  },
  {
   "cell_type": "code",
   "execution_count": null,
   "metadata": {
    "scrolled": true
   },
   "outputs": [],
   "source": [
    "# Plot a standard-scaled plot for ListingCategory\n",
    "plt.figure(figsize=[10, 5])\n",
    "\n",
    "# Order the categorical variable type\n",
    "cat_order = clean_df['ListingCategory'].value_counts().index\n",
    "\n",
    "sb.countplot(data = clean_df, y = 'ListingCategory', color = default_color, order=cat_order)\n",
    "plt.ylabel('Listing Category')\n",
    "plt.xlabel('# of Borrowers');"
   ]
  },
  {
   "cell_type": "markdown",
   "metadata": {},
   "source": [
    "Listing Category which borrower selected are mostly Debt Consolidation."
   ]
  },
  {
   "cell_type": "code",
   "execution_count": null,
   "metadata": {
    "scrolled": true
   },
   "outputs": [],
   "source": [
    "# Plot for IncomeVerifiable\n",
    "plt.figure(figsize=[5, 5])\n",
    "\n",
    "# Order the categorical variable type\n",
    "cat_order = clean_df['IncomeVerifiable'].value_counts().index\n",
    "\n",
    "sb.countplot(data = clean_df, x = 'IncomeVerifiable', color = default_color, order=cat_order)\n",
    "plt.xlabel('Income Verifiable')\n",
    "plt.ylabel('# of Borrowers');"
   ]
  },
  {
   "cell_type": "markdown",
   "metadata": {},
   "source": [
    "Majority of borrowers indicated that their income is verifiable or has supporting document to prove their capacity to pay."
   ]
  },
  {
   "cell_type": "code",
   "execution_count": null,
   "metadata": {
    "scrolled": true
   },
   "outputs": [],
   "source": [
    "# Plot for IsBorrowerHomeowner\n",
    "plt.figure(figsize=[5, 5])\n",
    "\n",
    "# Order the categorical variable type\n",
    "cat_order = clean_df['IsBorrowerHomeowner'].value_counts().index\n",
    "\n",
    "sb.countplot(data = clean_df, x = 'IsBorrowerHomeowner', color = default_color, order=cat_order)\n",
    "plt.xlabel('Homeowner?')\n",
    "plt.ylabel('# of Borrowers');"
   ]
  },
  {
   "cell_type": "markdown",
   "metadata": {},
   "source": [
    "The Borrower's home ownership will not provide a strong indication to the status of loan because it is distributed evenly. "
   ]
  },
  {
   "cell_type": "code",
   "execution_count": null,
   "metadata": {
    "scrolled": true
   },
   "outputs": [],
   "source": [
    "# Plot for EmploymentStatus\n",
    "plt.figure(figsize=[10, 5])\n",
    "\n",
    "# Order the categorical variable type\n",
    "cat_order = clean_df['EmploymentStatus'].value_counts().index\n",
    "\n",
    "sb.countplot(data = clean_df, y = 'EmploymentStatus', color = default_color, order=cat_order)\n",
    "plt.xlabel('Employment Status')\n",
    "plt.ylabel('# of Borrowers');"
   ]
  },
  {
   "cell_type": "markdown",
   "metadata": {},
   "source": [
    "Most borrowers are full-time and employee "
   ]
  },
  {
   "cell_type": "code",
   "execution_count": null,
   "metadata": {
    "scrolled": true
   },
   "outputs": [],
   "source": [
    "# Plot for Income Range\n",
    "plt.figure(figsize=[10, 5])\n",
    "\n",
    "# Order the categorical variable type\n",
    "cat_order = clean_df['IncomeRange'].value_counts().index\n",
    "\n",
    "sb.countplot(data = clean_df, y = 'IncomeRange', color = default_color, order=cat_order)\n",
    "plt.xlabel('Income Range')\n",
    "plt.ylabel('# of Borrowers');"
   ]
  },
  {
   "cell_type": "code",
   "execution_count": null,
   "metadata": {
    "scrolled": true
   },
   "outputs": [],
   "source": [
    "#check percentage of Income Range\n",
    "pct_loans_by_income = pd.DataFrame(clean_df.groupby('IncomeRange')['IncomeRange'].count())\n",
    "pct_loans_by_income['PercentIncome'] = (pct_loans_by_income['IncomeRange']/pct_loans_by_income['IncomeRange'].sum())*100\n",
    "pct_loans_by_income.sort_values(by='PercentIncome', ascending=False)"
   ]
  },
  {
   "cell_type": "markdown",
   "metadata": {},
   "source": [
    "85% of borrowers income range is between 25,000 to more than 100K.\n",
    "Only about 15% have income more than 100K."
   ]
  },
  {
   "cell_type": "code",
   "execution_count": null,
   "metadata": {
    "scrolled": true
   },
   "outputs": [],
   "source": [
    "# Plot for Occupation\n",
    "plt.figure(figsize=[15, 10])\n",
    "\n",
    "# Order the categorical variable type\n",
    "cat_order = clean_df['Occupation'].value_counts().index\n",
    "\n",
    "sb.countplot(data = clean_df, y = 'Occupation', color = default_color, order=cat_order)\n",
    "plt.xlabel('Occupation')\n",
    "plt.ylabel('# of Borrowers');"
   ]
  },
  {
   "cell_type": "markdown",
   "metadata": {},
   "source": [
    "Most occupation was described as \"Other\", which will not provide good insight if this variable will influence loan status"
   ]
  },
  {
   "cell_type": "code",
   "execution_count": null,
   "metadata": {
    "scrolled": true
   },
   "outputs": [],
   "source": [
    "# Plot for State\n",
    "plt.figure(figsize=[15, 10])\n",
    "\n",
    "# Order the categorical variable type\n",
    "cat_order = clean_df['BorrowerState'].value_counts().index\n",
    "\n",
    "sb.countplot(data = clean_df, y = 'BorrowerState', color = default_color, order=cat_order)\n",
    "plt.xlabel('State')\n",
    "plt.ylabel('# of Borrowers');"
   ]
  },
  {
   "cell_type": "markdown",
   "metadata": {},
   "source": [
    "Very interesting that most borrowers are from CA state, while TX, FL, NY, IL, GA are almost in the same range."
   ]
  },
  {
   "cell_type": "markdown",
   "metadata": {},
   "source": [
    "## Bivariate Exploration <a class =\"anchor\" id =\"bivar\"></a>\n",
    "\n",
    "Now, next step is analysis of correlation between variables"
   ]
  },
  {
   "cell_type": "code",
   "execution_count": null,
   "metadata": {
    "scrolled": true
   },
   "outputs": [],
   "source": [
    "# Numberical vs Categorical features\n",
    "numeric_vars = ['ProsperRatingN', 'CurrentCreditLines','CreditScoreRangeUpper','LoanOriginalAmount', 'BorrowerAPR','EstimatedReturn']\n",
    "categoric_vars = ['LoanStatus', 'ListingCategory','Occupation' ,'EmploymentStatus', 'IsBorrowerHomeowner','IncomeRange', 'IncomeVerifiable','BorrowerState']\n"
   ]
  },
  {
   "cell_type": "code",
   "execution_count": null,
   "metadata": {
    "scrolled": true
   },
   "outputs": [],
   "source": [
    "# Correlation plot\n",
    "plt.figure(figsize = [8, 5])\n",
    "sb.heatmap(clean_df[numeric_vars].corr(), annot = True, fmt = '.3f',\n",
    "           cmap = 'vlag_r', center = 0)\n",
    "plt.show()"
   ]
  },
  {
   "cell_type": "code",
   "execution_count": null,
   "metadata": {
    "scrolled": true
   },
   "outputs": [],
   "source": [
    "# Plot matrix\n",
    "g = sb.PairGrid(data = clean_df, vars = numeric_vars)\n",
    "g = g.map_diag(plt.hist)\n",
    "g.map_offdiag(plt.scatter);"
   ]
  },
  {
   "cell_type": "markdown",
   "metadata": {},
   "source": [
    "It shows that Borrower's APR and estimated return has a strong correlation. While other numerical variables have weak correlation of less than 0.5"
   ]
  },
  {
   "cell_type": "code",
   "execution_count": null,
   "metadata": {
    "scrolled": true
   },
   "outputs": [],
   "source": [
    "# LoanStatus vs ListingCategory: stacked bar chart\n",
    "loan_cat_order = ['Current', 'Completed','Chargedoff','Defaulted', 'Past Due']\n",
    "listing_cat_order = clean_df['ListingCategory'].value_counts().index\n",
    "\n",
    "baselines = np.zeros(len(loan_cat_order))\n",
    "\n",
    "plt.figure(figsize = [15, 8])\n",
    "\n",
    "# for each second-variable category:\n",
    "for i in range(len(listing_cat_order)):\n",
    "# isolate the counts of the first category,\n",
    "    listing_cat = listing_cat_order[i]\n",
    "    inner_counts = clean_df[clean_df['ListingCategory'] == listing_cat]['LoanStatus'].value_counts()\n",
    "\n",
    "# then plot those counts on top of the accumulated baseline\n",
    "    plt.bar(x = np.arange(len(loan_cat_order)), height = inner_counts[loan_cat_order],\n",
    "            bottom = baselines)\n",
    "    baselines += inner_counts[loan_cat_order]\n",
    "\n",
    "plt.xticks(np.arange(len(loan_cat_order)), loan_cat_order)\n",
    "plt.legend(listing_cat_order);"
   ]
  },
  {
   "cell_type": "markdown",
   "metadata": {},
   "source": [
    "Borrowers whose loan is current chose Debt Consolidation as listing category. \n",
    "\n",
    "While those loan status are not current, including completed did not indicate listing category."
   ]
  },
  {
   "cell_type": "code",
   "execution_count": null,
   "metadata": {
    "scrolled": false
   },
   "outputs": [],
   "source": [
    "# LoanStatus vs Employment Status: stacked bar chart\n",
    "loan_cat_order = ['Current', 'Completed','Chargedoff','Defaulted', 'Past Due']\n",
    "listing_cat_order = clean_df['EmploymentStatus'].value_counts().index\n",
    "\n",
    "baselines = np.zeros(len(loan_cat_order))\n",
    "\n",
    "plt.figure(figsize = [15, 8])\n",
    "\n",
    "# for each second-variable category:\n",
    "for i in range(len(listing_cat_order)):\n",
    "# isolate the counts of the first category,\n",
    "    listing_cat = listing_cat_order[i]\n",
    "    inner_counts = clean_df[clean_df['EmploymentStatus'] == listing_cat]['LoanStatus'].value_counts()\n",
    "\n",
    "# then plot those counts on top of the accumulated baseline\n",
    "    plt.bar(x = np.arange(len(loan_cat_order)), height = inner_counts[loan_cat_order],\n",
    "            bottom = baselines)\n",
    "    baselines += inner_counts[loan_cat_order]\n",
    "\n",
    "plt.xticks(np.arange(len(loan_cat_order)), loan_cat_order)\n",
    "plt.legend(listing_cat_order);"
   ]
  },
  {
   "cell_type": "markdown",
   "metadata": {},
   "source": [
    "Majority of borrowers are employed and full-time, breaking down by employment status indicates that even those employed and full-time have loan status of defaulty and past-due."
   ]
  },
  {
   "cell_type": "code",
   "execution_count": null,
   "metadata": {
    "scrolled": true
   },
   "outputs": [],
   "source": [
    "# LoanStatus vs Income Range: stacked bar chart\n",
    "loan_cat_order = ['Current', 'Completed','Chargedoff','Defaulted', 'Past Due']\n",
    "listing_cat_order = clean_df['IncomeRange'].value_counts().index\n",
    "\n",
    "baselines = np.zeros(len(loan_cat_order))\n",
    "\n",
    "plt.figure(figsize = [15, 8])\n",
    "\n",
    "# for each second-variable category:\n",
    "for i in range(len(listing_cat_order)):\n",
    "# isolate the counts of the first category,\n",
    "    listing_cat = listing_cat_order[i]\n",
    "    inner_counts = clean_df[clean_df['IncomeRange'] == listing_cat]['LoanStatus'].value_counts()\n",
    "\n",
    "# then plot those counts on top of the accumulated baseline\n",
    "    plt.bar(x = np.arange(len(loan_cat_order)), height = inner_counts[loan_cat_order],\n",
    "            bottom = baselines)\n",
    "    baselines += inner_counts[loan_cat_order]\n",
    "\n",
    "plt.xticks(np.arange(len(loan_cat_order)), loan_cat_order)\n",
    "plt.legend(listing_cat_order);"
   ]
  },
  {
   "cell_type": "markdown",
   "metadata": {},
   "source": [
    "It is expected that borrwers whose income range fall between 25,000 to 74,999 have loan status of current and completed.\n",
    "But it is also evident that borrowers with income 75,00 and above have loan status current and completed."
   ]
  },
  {
   "cell_type": "code",
   "execution_count": null,
   "metadata": {
    "scrolled": true
   },
   "outputs": [],
   "source": [
    "# LoanStatus vs ListingCategory: stacked bar chart\n",
    "loan_cat_order = ['Current', 'Completed','Chargedoff','Defaulted', 'Past Due']\n",
    "listing_cat_order = clean_df['IncomeVerifiable'].value_counts().index\n",
    "\n",
    "baselines = np.zeros(len(loan_cat_order))\n",
    "\n",
    "plt.figure(figsize = [5, 8])\n",
    "\n",
    "# for each second-variable category:\n",
    "for i in range(len(listing_cat_order)):\n",
    "# isolate the counts of the first category,\n",
    "    listing_cat = listing_cat_order[i]\n",
    "    inner_counts = clean_df[clean_df['IncomeVerifiable'] == listing_cat]['LoanStatus'].value_counts()\n",
    "\n",
    "# then plot those counts on top of the accumulated baseline\n",
    "    plt.bar(x = np.arange(len(loan_cat_order)), height = inner_counts[loan_cat_order],\n",
    "            bottom = baselines)\n",
    "    baselines += inner_counts[loan_cat_order]\n",
    "\n",
    "plt.xticks(np.arange(len(loan_cat_order)), loan_cat_order)\n",
    "plt.legend(listing_cat_order);"
   ]
  },
  {
   "cell_type": "code",
   "execution_count": null,
   "metadata": {
    "scrolled": true
   },
   "outputs": [],
   "source": [
    "# LoanStatus vs ListingCategory: stacked bar chart\n",
    "loan_cat_order = ['Current', 'Completed','Chargedoff','Defaulted', 'Past Due']\n",
    "listing_cat_order = clean_df['BorrowerState'].value_counts().index\n",
    "\n",
    "baselines = np.zeros(len(loan_cat_order))\n",
    "\n",
    "plt.figure(figsize = [25, 15])\n",
    "\n",
    "# for each second-variable category:\n",
    "for i in range(len(listing_cat_order)):\n",
    "# isolate the counts of the first category,\n",
    "    listing_cat = listing_cat_order[i]\n",
    "    inner_counts = clean_df[clean_df['BorrowerState'] == listing_cat]['LoanStatus'].value_counts()\n",
    "\n",
    "# then plot those counts on top of the accumulated baseline\n",
    "    plt.bar(x = np.arange(len(loan_cat_order)), height = inner_counts[loan_cat_order],\n",
    "            bottom = baselines)\n",
    "    baselines += inner_counts[loan_cat_order]\n",
    "\n",
    "plt.xticks(np.arange(len(loan_cat_order)), loan_cat_order)\n",
    "plt.legend(listing_cat_order);"
   ]
  },
  {
   "cell_type": "markdown",
   "metadata": {},
   "source": [
    "Both variables Income Verifiable and State doesn't provide a determinant factor for status of loan. Majority of borrowers indicated they can provide documentation to verify income regardless of the loan status. \n",
    "While most borrowers are from California, the data for state is distributed among all borrowers."
   ]
  },
  {
   "cell_type": "markdown",
   "metadata": {},
   "source": [
    "## Multivariate Exploration <a class =\"anchor\" id =\"multivar\"></a>\n",
    "\n",
    "Now, let's consider more than two variables. Look at one categorical variable, Loan Status and four numerical variables such as Loan Amoung, Prosper Rating, Credit Line and Credit Score. "
   ]
  },
  {
   "cell_type": "code",
   "execution_count": null,
   "metadata": {
    "scrolled": false
   },
   "outputs": [],
   "source": [
    "g = sb.PairGrid(data = clean_df, x_vars = ['LoanOriginalAmount','ProsperRatingN', 'CurrentCreditLines','CreditScoreRangeUpper'],\n",
    "                y_vars = ['LoanStatus'])\n",
    "g.map(sb.violinplot, inner = 'quartile')"
   ]
  },
  {
   "cell_type": "markdown",
   "metadata": {},
   "source": [
    "The distribution of loan amount is quite interesting because it is not distributed normally. Most number of loans is 4,000, while those defaulted, past due, and charged off have lower original loan amount.\n",
    "\n",
    "As discussed above, in univariate analysis. There is a strong distribution of Current Credit lines between 4 and 14, and a long tail for credit line over 15, this is consistent to all loan status. \n",
    "\n",
    "The Prosper Rating is distrubuted normally across loan status. \n",
    "\n",
    "Eventhough the data shows that borrowers with high credit score defaulted or has past due loans, it is evident that the loan status of borrowers with higher credit score are current and completed. "
   ]
  },
  {
   "cell_type": "code",
   "execution_count": null,
   "metadata": {
    "scrolled": true
   },
   "outputs": [],
   "source": [
    "g = sb.FacetGrid(data = clean_df, hue = 'ProsperRatingN',  size = 6, aspect = 1.5, palette=\"colorblind\")\n",
    "g.map(sb.regplot,\"BorrowerAPR\", \"EstimatedReturn\", fit_reg = False);\n",
    "plt.legend(loc=1, fontsize = 9)"
   ]
  },
  {
   "cell_type": "markdown",
   "metadata": {},
   "source": [
    "It is expected that there is a strong correlation between estimated return and borrower's annual percentage rate. Additionally, the Prosper's rating is a useful variable to analyze. The graph shows that rating is distributed among the estimated return and borrower's APR. Rating of 4 and above have a higher estimated return. "
   ]
  },
  {
   "cell_type": "markdown",
   "metadata": {},
   "source": [
    "## Summary   <a class =\"anchor\" id =\"summary\"></a>\n",
    "\n",
    "Overall, I think the result of data analysis is expected. The profile of the borrower such as  employment status, income range, credit score, credit lines are strong indicators if the loan is going to result to good performance or note. Although the distribution of data is expected, it also showed interesting result like even those employed and full-time have loan status of default and past-due loans.\n",
    "\n",
    "For this project, I initially did a data assessment and data cleanup. I removed records with duplicate listing keys, to make sure that the borrower's information and loan information are unique. I did a univariate analysis, wherein i plotted each variable that I am interested to analyse. I also did a bivariate analysis to see correlation between two variables, loan status against each categorical variables. Finally, in mulitvariate analysis. I explored one categorical variable, Loan Status and four numerical variables such as Loan Amoung, Prosper Rating, Credit Line and Credit Score.\n",
    "\n",
    "### Limitations\n",
    "Although the data provided consist of 81 variables, the project only requires 10 to 15 variables to analyze. There are other variables that can be considered to produec a more meaningful and useful result.\n"
   ]
  },
  {
   "cell_type": "markdown",
   "metadata": {},
   "source": [
    "### References:  <a class =\"anchor\" id =\"reflink\"></a>\n",
    "https://moonbooks.org/Articles/How-to-create-a-table-of-contents-in-a-jupyter-notebook-/\n",
    "\n",
    "https://help.lendingclub.com/hc/en-us/articles/215488038-What-do-the-different-Note-statuses-mean-\n",
    "\n",
    "https://docs.google.com/document/d/e/2PACX-1vQmkX4iOT6Rcrin42vslquX2_wQCjIa_hbwD0xmxrERPSOJYDtpNc_3wwK_p9_KpOsfA6QVyEHdxxq7/pub?embedded=True\n",
    "\n",
    "https://matplotlib.org/api/_as_gen/matplotlib.pyplot.subplot.html\n",
    "\n",
    "https://docs.python.org/3/py-modindex.html\n"
   ]
  }
 ],
 "metadata": {
  "kernelspec": {
   "display_name": "Python 3",
   "language": "python",
   "name": "python3"
  },
  "language_info": {
   "codemirror_mode": {
    "name": "ipython",
    "version": 3
   },
   "file_extension": ".py",
   "mimetype": "text/x-python",
   "name": "python",
   "nbconvert_exporter": "python",
   "pygments_lexer": "ipython3",
   "version": "3.7.6"
  }
 },
 "nbformat": 4,
 "nbformat_minor": 4
}
